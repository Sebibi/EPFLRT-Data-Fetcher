{
 "cells": [
  {
   "cell_type": "code",
   "outputs": [],
   "source": [
    "import numpy as np\n",
    "from scipy.optimize import linprog\n",
    "import pandas as pd\n",
    "from itertools import combinations\n",
    "from qpsolvers import solve_qp\n",
    "from scipy.sparse import csc_matrix"
   ],
   "metadata": {
    "collapsed": false,
    "ExecuteTime": {
     "end_time": "2024-01-26T02:19:30.770161141Z",
     "start_time": "2024-01-26T02:19:30.742863520Z"
    }
   },
   "id": "2cadae66c0158466",
   "execution_count": 133
  },
  {
   "cell_type": "code",
   "outputs": [],
   "source": [
    "# Decision variables: [A1, B1, C1, D1, A2, B2, C2, D2, A3, B3, C3, D3, A4, B4, C4, D4, A5, B5, C5, D5, A6, B6, C6, D6]\n",
    "# Objective function coefficients: minimize pairwise distances of points with same line number\n",
    "\n",
    "letters = ['A', 'B', 'C', 'D']\n",
    "n_letters = len(letters)\n",
    "n_questions = 10\n",
    "\n",
    "n_letter_comb = len(list(combinations(letters, 2)))\n",
    "n_differences = n_questions * n_letter_comb\n",
    "n_variables = n_differences + n_questions * n_letters\n",
    "\n",
    "# Objective: minimize sum of all differences\n",
    "c = np.array([0] * (n_questions * n_letters) + [1] * n_differences)\n",
    "\n",
    "# Inequality constraints (Ax <= b)\n",
    "A_ub = np.array([])\n",
    "for i in range(n_questions):\n",
    "    indexes = [i * n_letters + j for j in range(n_letters)]\n",
    "    indexes_comb = list(combinations(indexes, 2))\n",
    "    for j, (index1, index2) in enumerate(indexes_comb):\n",
    "        cons = np.zeros(n_variables)\n",
    "        cons[index1] = 1\n",
    "        cons[index2] = -1\n",
    "        cons[n_letters * n_questions + i * n_letter_comb + j] = -1\n",
    "        A_ub = np.vstack((A_ub, cons)) if A_ub.size else cons\n",
    "        \n",
    "        cons = np.zeros(n_variables)\n",
    "        cons[index1] = -1\n",
    "        cons[index2] = 1\n",
    "        cons[n_letters * n_questions + i * n_letter_comb + j] = -1\n",
    "        A_ub = np.vstack((A_ub, cons))\n",
    "    \n",
    "b_ub = np.zeros(len(A_ub))\n",
    "# Equality constraints (Ax = b)\n",
    "A_eq = np.array([])\n",
    "for i in range(n_questions):\n",
    "    cons = np.zeros(n_variables)\n",
    "    indexes = [i * n_letters + j for j in range(n_letters)]\n",
    "    cons[indexes] = 1\n",
    "    A_eq = np.vstack((A_eq, cons)) if A_eq.size else cons\n",
    "    \n",
    "b_eq = np.ones(len(A_eq))\n",
    "\n",
    "# Bounds\n",
    "bounds = [(0, 1) for _ in range(n_letters * n_questions)] + [(-1, 1) for _ in range(n_differences)]"
   ],
   "metadata": {
    "collapsed": false,
    "ExecuteTime": {
     "end_time": "2024-01-26T02:19:30.772227524Z",
     "start_time": "2024-01-26T02:19:30.762022632Z"
    }
   },
   "id": "1dc5cf44e3b43ac8",
   "execution_count": 134
  },
  {
   "cell_type": "code",
   "outputs": [],
   "source": [
    "# Add new constraints\n",
    "def add_answer(A_eq, b_eq, answer, answer_score):\n",
    "    answer_indexes = [i * n_letters + letters.index(a) for i, a in enumerate(answer)]\n",
    "    cons = np.zeros(n_variables)\n",
    "    cons[answer_indexes] = 1\n",
    "    A_eq = np.vstack((A_eq, cons))\n",
    "    b_eq = np.append(b_eq, answer_score)\n",
    "    return A_eq, b_eq\n",
    "\n",
    "\n",
    "answer = ['A'] * n_questions\n",
    "answer_score = 4\n",
    "A_eq, b_eq = add_answer(A_eq, b_eq, answer, answer_score)\n",
    "\n",
    "answer = ['B'] * n_questions\n",
    "answer_score = 2\n",
    "A_eq, b_eq = add_answer(A_eq, b_eq, answer, answer_score)\n",
    "\n",
    "answer = ['C'] * n_questions\n",
    "answer_score = 1\n",
    "A_eq, b_eq = add_answer(A_eq, b_eq, answer, answer_score)\n",
    "\n",
    "answer = ['D'] * n_questions\n",
    "answer_score = 3\n",
    "A_eq, b_eq = add_answer(A_eq, b_eq, answer, answer_score)\n",
    "\n",
    "answer = ['A', 'B', 'C', 'D', 'A', 'B', 'C', 'D', 'A', 'B']\n",
    "answer_score = 8\n",
    "A_eq, b_eq = add_answer(A_eq, b_eq, answer, answer_score)"
   ],
   "metadata": {
    "collapsed": false,
    "ExecuteTime": {
     "end_time": "2024-01-26T02:19:30.820839372Z",
     "start_time": "2024-01-26T02:19:30.779375152Z"
    }
   },
   "id": "cc440997538e4cb2",
   "execution_count": 135
  },
  {
   "cell_type": "code",
   "outputs": [],
   "source": [
    "# Solve\n",
    "P = csc_matrix(np.zeros((n_variables, n_variables)))\n",
    "q = c\n",
    "G = csc_matrix(A_ub)\n",
    "h = b_ub\n",
    "A = csc_matrix(A_eq)\n",
    "b = b_eq\n",
    "lb = np.array([elem[0] for elem in bounds])\n",
    "ub = np.array([elem[1] for elem in bounds])\n",
    "x = solve_qp(P, q, G, h, A, b, lb=lb, ub=ub, solver='osqp')"
   ],
   "metadata": {
    "collapsed": false,
    "ExecuteTime": {
     "end_time": "2024-01-26T02:19:30.821239397Z",
     "start_time": "2024-01-26T02:19:30.794461059Z"
    }
   },
   "id": "3e836302eb4d0b34",
   "execution_count": 136
  },
  {
   "cell_type": "code",
   "outputs": [],
   "source": [
    "res = linprog(c, A_ub=A_ub, b_ub=b_ub, A_eq=A_eq, b_eq=b_eq, bounds=bounds, integrality=1)\n",
    "x_lineprog = res.x"
   ],
   "metadata": {
    "collapsed": false,
    "ExecuteTime": {
     "end_time": "2024-01-26T02:19:30.838625Z",
     "start_time": "2024-01-26T02:19:30.794613709Z"
    }
   },
   "id": "bea74453c49fc551",
   "execution_count": 137
  },
  {
   "cell_type": "code",
   "outputs": [
    {
     "data": {
      "text/plain": "             A     B     C     D\nQuestion                        \n1         1.00 -0.00 -0.00 -0.00\n2         0.16  0.67  0.01  0.16\n3         0.26 -0.00  0.49  0.26\n4        -0.00 -0.00 -0.00  1.00\n5         1.00 -0.00 -0.00 -0.00\n6         0.16  0.67  0.01  0.16\n7         0.26 -0.00  0.49  0.26\n8        -0.00 -0.00 -0.00  1.00\n9         1.00 -0.00 -0.00 -0.00\n10        0.16  0.67  0.01  0.16",
      "text/html": "<div>\n<style scoped>\n    .dataframe tbody tr th:only-of-type {\n        vertical-align: middle;\n    }\n\n    .dataframe tbody tr th {\n        vertical-align: top;\n    }\n\n    .dataframe thead th {\n        text-align: right;\n    }\n</style>\n<table border=\"1\" class=\"dataframe\">\n  <thead>\n    <tr style=\"text-align: right;\">\n      <th></th>\n      <th>A</th>\n      <th>B</th>\n      <th>C</th>\n      <th>D</th>\n    </tr>\n    <tr>\n      <th>Question</th>\n      <th></th>\n      <th></th>\n      <th></th>\n      <th></th>\n    </tr>\n  </thead>\n  <tbody>\n    <tr>\n      <th>1</th>\n      <td>1.00</td>\n      <td>-0.00</td>\n      <td>-0.00</td>\n      <td>-0.00</td>\n    </tr>\n    <tr>\n      <th>2</th>\n      <td>0.16</td>\n      <td>0.67</td>\n      <td>0.01</td>\n      <td>0.16</td>\n    </tr>\n    <tr>\n      <th>3</th>\n      <td>0.26</td>\n      <td>-0.00</td>\n      <td>0.49</td>\n      <td>0.26</td>\n    </tr>\n    <tr>\n      <th>4</th>\n      <td>-0.00</td>\n      <td>-0.00</td>\n      <td>-0.00</td>\n      <td>1.00</td>\n    </tr>\n    <tr>\n      <th>5</th>\n      <td>1.00</td>\n      <td>-0.00</td>\n      <td>-0.00</td>\n      <td>-0.00</td>\n    </tr>\n    <tr>\n      <th>6</th>\n      <td>0.16</td>\n      <td>0.67</td>\n      <td>0.01</td>\n      <td>0.16</td>\n    </tr>\n    <tr>\n      <th>7</th>\n      <td>0.26</td>\n      <td>-0.00</td>\n      <td>0.49</td>\n      <td>0.26</td>\n    </tr>\n    <tr>\n      <th>8</th>\n      <td>-0.00</td>\n      <td>-0.00</td>\n      <td>-0.00</td>\n      <td>1.00</td>\n    </tr>\n    <tr>\n      <th>9</th>\n      <td>1.00</td>\n      <td>-0.00</td>\n      <td>-0.00</td>\n      <td>-0.00</td>\n    </tr>\n    <tr>\n      <th>10</th>\n      <td>0.16</td>\n      <td>0.67</td>\n      <td>0.01</td>\n      <td>0.16</td>\n    </tr>\n  </tbody>\n</table>\n</div>"
     },
     "execution_count": 138,
     "metadata": {},
     "output_type": "execute_result"
    }
   ],
   "source": [
    "# Show results\n",
    "data = x[:(n_letters * n_questions)].reshape(n_questions, n_letters)\n",
    "df = pd.DataFrame(data, columns=['A', 'B', 'C', 'D'])\n",
    "df.index += 1\n",
    "df.index.name = 'Question'\n",
    "df.round(2)"
   ],
   "metadata": {
    "collapsed": false,
    "ExecuteTime": {
     "end_time": "2024-01-26T02:19:30.864053661Z",
     "start_time": "2024-01-26T02:19:30.821007040Z"
    }
   },
   "id": "60d267360275ff07",
   "execution_count": 138
  },
  {
   "cell_type": "code",
   "outputs": [
    {
     "data": {
      "text/plain": "            A    B    C    D\nQuestion                    \n1         1.0  0.0  0.0  0.0\n2        -0.0  1.0  0.0 -0.0\n3        -0.0  0.0  1.0  0.0\n4         0.0  0.0  0.0  1.0\n5         1.0  0.0  0.0  0.0\n6         1.0  0.0  0.0  0.0\n7        -0.0  0.0  0.0  1.0\n8         0.0  0.0  0.0  1.0\n9         1.0  0.0  0.0  0.0\n10       -0.0  1.0  0.0 -0.0",
      "text/html": "<div>\n<style scoped>\n    .dataframe tbody tr th:only-of-type {\n        vertical-align: middle;\n    }\n\n    .dataframe tbody tr th {\n        vertical-align: top;\n    }\n\n    .dataframe thead th {\n        text-align: right;\n    }\n</style>\n<table border=\"1\" class=\"dataframe\">\n  <thead>\n    <tr style=\"text-align: right;\">\n      <th></th>\n      <th>A</th>\n      <th>B</th>\n      <th>C</th>\n      <th>D</th>\n    </tr>\n    <tr>\n      <th>Question</th>\n      <th></th>\n      <th></th>\n      <th></th>\n      <th></th>\n    </tr>\n  </thead>\n  <tbody>\n    <tr>\n      <th>1</th>\n      <td>1.0</td>\n      <td>0.0</td>\n      <td>0.0</td>\n      <td>0.0</td>\n    </tr>\n    <tr>\n      <th>2</th>\n      <td>-0.0</td>\n      <td>1.0</td>\n      <td>0.0</td>\n      <td>-0.0</td>\n    </tr>\n    <tr>\n      <th>3</th>\n      <td>-0.0</td>\n      <td>0.0</td>\n      <td>1.0</td>\n      <td>0.0</td>\n    </tr>\n    <tr>\n      <th>4</th>\n      <td>0.0</td>\n      <td>0.0</td>\n      <td>0.0</td>\n      <td>1.0</td>\n    </tr>\n    <tr>\n      <th>5</th>\n      <td>1.0</td>\n      <td>0.0</td>\n      <td>0.0</td>\n      <td>0.0</td>\n    </tr>\n    <tr>\n      <th>6</th>\n      <td>1.0</td>\n      <td>0.0</td>\n      <td>0.0</td>\n      <td>0.0</td>\n    </tr>\n    <tr>\n      <th>7</th>\n      <td>-0.0</td>\n      <td>0.0</td>\n      <td>0.0</td>\n      <td>1.0</td>\n    </tr>\n    <tr>\n      <th>8</th>\n      <td>0.0</td>\n      <td>0.0</td>\n      <td>0.0</td>\n      <td>1.0</td>\n    </tr>\n    <tr>\n      <th>9</th>\n      <td>1.0</td>\n      <td>0.0</td>\n      <td>0.0</td>\n      <td>0.0</td>\n    </tr>\n    <tr>\n      <th>10</th>\n      <td>-0.0</td>\n      <td>1.0</td>\n      <td>0.0</td>\n      <td>-0.0</td>\n    </tr>\n  </tbody>\n</table>\n</div>"
     },
     "execution_count": 139,
     "metadata": {},
     "output_type": "execute_result"
    }
   ],
   "source": [
    "# Show results\n",
    "data = x_lineprog[:(n_letters * n_questions)].reshape(n_questions, n_letters)\n",
    "df = pd.DataFrame(data, columns=['A', 'B', 'C', 'D'])\n",
    "df.index += 1\n",
    "df.index.name = 'Question'\n",
    "df.round(2)"
   ],
   "metadata": {
    "collapsed": false,
    "ExecuteTime": {
     "end_time": "2024-01-26T02:19:30.864785262Z",
     "start_time": "2024-01-26T02:19:30.862928235Z"
    }
   },
   "id": "ab1b45cfbaa0d2d5",
   "execution_count": 139
  }
 ],
 "metadata": {
  "kernelspec": {
   "display_name": "Python 3",
   "language": "python",
   "name": "python3"
  },
  "language_info": {
   "codemirror_mode": {
    "name": "ipython",
    "version": 2
   },
   "file_extension": ".py",
   "mimetype": "text/x-python",
   "name": "python",
   "nbconvert_exporter": "python",
   "pygments_lexer": "ipython2",
   "version": "2.7.6"
  }
 },
 "nbformat": 4,
 "nbformat_minor": 5
}
