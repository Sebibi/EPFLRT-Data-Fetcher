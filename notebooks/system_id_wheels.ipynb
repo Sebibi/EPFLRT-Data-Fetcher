{
 "cells": [
  {
   "cell_type": "code",
   "execution_count": 34,
   "id": "initial_id",
   "metadata": {
    "ExecuteTime": {
     "end_time": "2024-04-23T14:47:22.342133Z",
     "start_time": "2024-04-23T14:47:22.339615Z"
    },
    "collapsed": true
   },
   "source": [
    "!pip install pandas\n",
    "!pip install matplotlib\n",
    "import pandas as pd\n",
    "import matplotlib.pyplot as plt"
   ],
   "outputs": []
  },
  {
   "cell_type": "code",
   "execution_count": 35,
   "id": "1a4c906f9c131867",
   "metadata": {
    "ExecuteTime": {
     "end_time": "2024-04-23T14:47:22.401222Z",
     "start_time": "2024-04-23T14:47:22.361067Z"
    }
   },
   "source": [
    "# Load the data$\n",
    "root_dir = '../'\n",
    "linear_torque_cmd_file = root_dir + 'data/sys_id/linear_torque_full.csv'\n",
    "step_torque_cmd_file = root_dir + 'data/sys_id/step_torque_full.csv'\n",
    "linear_torque_cmd = pd.read_csv(linear_torque_cmd_file, index_col=0)\n",
    "step_torque_cmd = pd.read_csv(step_torque_cmd_file, index_col=0)\n",
    "\n",
    "# First look at the data\n",
    "linear_torque_cmd.head()"
   ],
   "outputs": []
  },
  {
   "cell_type": "code",
   "execution_count": 36,
   "id": "e4b6191cbca60d02",
   "metadata": {
    "ExecuteTime": {
     "end_time": "2024-04-23T14:47:22.445736Z",
     "start_time": "2024-04-23T14:47:22.442814Z"
    }
   },
   "source": [
    "wheel_names = ['FL', 'FR', 'RL', 'RR']\n",
    "speed_names = [f'VSI_Motor_Speed_{wheel}' for wheel in wheel_names]\n",
    "torque_names = [f'VSI_TrqFeedback_{wheel}' for wheel in wheel_names]\n",
    "cmd_names = [f'MISC_Pos_Trq_Limit_{wheel}' for wheel in wheel_names]\n",
    "\n",
    "linear_torque_cmd[cmd_names] /= 0.773\n",
    "step_torque_cmd[cmd_names] /= 0.773"
   ],
   "outputs": []
  },
  {
   "cell_type": "code",
   "execution_count": 37,
   "id": "cc746ab417289098",
   "metadata": {
    "ExecuteTime": {
     "end_time": "2024-04-23T14:47:22.854838Z",
     "start_time": "2024-04-23T14:47:22.474721Z"
    }
   },
   "source": [
    "# Plot the linear torque command data\n",
    "fig, ax = plt.subplots(1, 2, figsize=(15, 5))\n",
    "linear_torque_cmd[speed_names].plot(ax=ax[0], xlabel='Time (s)', ylabel='Speed (RPM)')\n",
    "linear_torque_cmd[torque_names].plot(ax=ax[1], xlabel='Time (s)', ylabel='Torque (Nm)')\n",
    "plt.show()"
   ],
   "outputs": []
  },
  {
   "cell_type": "code",
   "execution_count": 38,
   "id": "7f99fb2f905f229",
   "metadata": {
    "ExecuteTime": {
     "end_time": "2024-04-23T14:47:24.217610Z",
     "start_time": "2024-04-23T14:47:22.867297Z"
    }
   },
   "source": [
    "# For each wheel, plot the motor speed vs torque\n",
    "fig, ax = plt.subplots(2, 2, figsize=(15, 8))\n",
    "for i, wheel in enumerate(wheel_names):\n",
    "    ax[i//2, i%2].scatter(linear_torque_cmd[torque_names[i]], linear_torque_cmd[speed_names[i]], s=2)\n",
    "    ax[i//2, i%2].set_xlabel('Torque (Nm)')\n",
    "    ax[i//2, i%2].set_ylabel('Speed (RPM)')\n",
    "    ax[i//2, i%2].set_title(f'{wheel} Motor Speed vs Torque')\n",
    "plt.tight_layout()\n",
    "\n",
    "# PLot on a single graph\n",
    "fig, ax = plt.subplots(1, 1, figsize=(10, 8))\n",
    "for i, wheel in enumerate(wheel_names):\n",
    "    ax.scatter(linear_torque_cmd[torque_names[i]], linear_torque_cmd[speed_names[i]], s=2, label=wheel)\n",
    "ax.set_xlabel('Torque (Nm)')\n",
    "ax.set_ylabel('Speed (RPM)')\n",
    "ax.set_title('Motor Speed vs Torque')\n",
    "ax.legend()\n",
    "plt.show()"
   ],
   "outputs": []
  },
  {
   "cell_type": "code",
   "execution_count": 41,
   "id": "bb1bac11",
   "metadata": {},
   "source": [
    "rpm_vwheel = 3.14 / (30.0 * 13.2)\n",
    "ks = 3\n",
    "kd = 0.17 * rpm_vwheel \n",
    "for i, wheel in enumerate(wheel_names):\n",
    "    linear_torque_cmd[f'Theoretical_Torque_{wheel}'] = linear_torque_cmd[speed_names[i]] * kd + ks\n",
    "\n",
    "# For each wheel, plot the motor speed vs torque\n",
    "fig, ax = plt.subplots(2, 2, figsize=(15, 8))\n",
    "for i, wheel in enumerate(wheel_names):\n",
    "    ax[i//2, i%2].scatter(linear_torque_cmd[cmd_names[i]], linear_torque_cmd[speed_names[i]], s=2)\n",
    "    ax[i//2, i%2].plot(linear_torque_cmd[f'Theoretical_Torque_{wheel}'], linear_torque_cmd[speed_names[i]], label=f'{wheel} Theoretical')\n",
    "    ax[i//2, i%2].set_xlabel('Torque (Nm)')\n",
    "    ax[i//2, i%2].set_ylabel('Speed (RPM)')\n",
    "    ax[i//2, i%2].set_title(f'{wheel} Motor Speed vs Torque')\n",
    "plt.tight_layout()\n",
    "\n",
    "# PLot on a single graph\n",
    "fig, ax = plt.subplots(1, 1, figsize=(10, 8))\n",
    "for i, wheel in enumerate(wheel_names):\n",
    "    ax.scatter(linear_torque_cmd[cmd_names[i]], linear_torque_cmd[speed_names[i]], s=2, label=wheel)\n",
    "    ax.plot(linear_torque_cmd[f'Theoretical_Torque_{wheel}'], linear_torque_cmd[speed_names[i]], label=f'{wheel} Theoretical')\n",
    "    \n",
    "\n",
    "ax.set_xlabel('Torque (Nm)')\n",
    "ax.set_ylabel('Speed (RPM)')\n",
    "ax.set_title('Motor Speed vs Torque')\n",
    "ax.set_xlim([1, 14])\n",
    "ax.legend()\n",
    "plt.show()"
   ],
   "outputs": []
  },
  {
   "cell_type": "code",
   "execution_count": 40,
   "id": "b189d28d9420651",
   "metadata": {
    "ExecuteTime": {
     "end_time": "2024-04-23T14:47:24.230707Z",
     "start_time": "2024-04-23T14:47:24.218993Z"
    }
   },
   "source": [
    "# Fit a linear model to the data\n",
    "from sklearn.linear_model import LinearRegression\n",
    "from sklearn.metrics import mean_squared_error\n",
    "import numpy as np\n",
    "\n",
    "# Fit a linear model to the data\n",
    "def fit_linear_model(data, x_col, y_col):\n",
    "    X = data[x_col].values.reshape(-1, 1)\n",
    "    y = data[y_col].values\n",
    "    model = LinearRegression().fit(X, y)\n",
    "    y_pred = model.predict(X)\n",
    "    mse = mean_squared_error(y, y_pred)\n",
    "    return model, mse\n",
    "\n",
    "# Fit a linear model to the data\n",
    "def fit_linear_models(data, x_cols, y_cols):\n",
    "    models = {}\n",
    "    mses = {}\n",
    "    for x_col, y_col in zip(x_cols, y_cols):\n",
    "        model, mse = fit_linear_model(data, x_col, y_col)\n",
    "        models[(x_col, y_col)] = model\n",
    "        mses[(x_col, y_col)] = mse\n",
    "    return models, mses\n",
    "\n",
    "# Fit the linear models\n",
    "linear_models, linear_mses = fit_linear_models(linear_torque_cmd, torque_names, speed_names)\n",
    "linear_mses"
   ],
   "outputs": []
  },
  {
   "cell_type": "code",
   "execution_count": null,
   "id": "e380dae198296188",
   "metadata": {
    "ExecuteTime": {
     "end_time": "2024-04-23T14:47:24.870761Z",
     "start_time": "2024-04-23T14:47:24.231640Z"
    }
   },
   "source": [
    "# Plot the linear model fits\n",
    "fig, ax = plt.subplots(2, 2, figsize=(15, 8))\n",
    "for i, wheel in enumerate(wheel_names):\n",
    "    x_col = torque_names[i]\n",
    "    y_col = speed_names[i]\n",
    "    model = linear_models[(x_col, y_col)]\n",
    "    x = linear_torque_cmd[x_col].values\n",
    "    y = linear_torque_cmd[y_col].values\n",
    "    y_pred = model.predict(x.reshape(-1, 1))\n",
    "    ax[i//2, i%2].scatter(x, y, s=2)\n",
    "    ax[i//2, i%2].plot(x, y_pred, color='red')\n",
    "    ax[i//2, i%2].set_xlabel('Torque (Nm)')\n",
    "    ax[i//2, i%2].set_ylabel('Speed (RPM)')\n",
    "    ax[i//2, i%2].set_title(f'{wheel} Motor Speed vs Torque')\n",
    "plt.tight_layout()"
   ],
   "outputs": []
  },
  {
   "cell_type": "code",
   "execution_count": null,
   "id": "dc72097feedfebd3",
   "metadata": {
    "ExecuteTime": {
     "end_time": "2024-04-23T15:14:24.764653Z",
     "start_time": "2024-04-23T15:14:24.085656Z"
    }
   },
   "source": [
    "# Plot the step torque command data\n",
    "fig, ax = plt.subplots(1, 2, figsize=(15, 5))\n",
    "step_torque_cmd[speed_names].plot(ax=ax[0], xlabel='Time (s)', ylabel='Speed (RPM)')\n",
    "step_torque_cmd[torque_names].plot(ax=ax[1], xlabel='Time (s)', ylabel='Torque (Nm)')\n",
    "plt.show()"
   ],
   "outputs": []
  },
  {
   "cell_type": "code",
   "execution_count": null,
   "id": "a65a2516fb77fb47",
   "metadata": {
    "ExecuteTime": {
     "end_time": "2024-04-23T15:14:19.671653Z",
     "start_time": "2024-04-23T15:14:18.676225Z"
    }
   },
   "source": [
    "# For each wheel, plot the motor speed vs torque\n",
    "fig, ax = plt.subplots(2, 2, figsize=(15, 8))\n",
    "for i, wheel in enumerate(wheel_names):\n",
    "    ax[i//2, i%2].scatter(step_torque_cmd[torque_names[i]], step_torque_cmd[speed_names[i]], s=2)\n",
    "    ax[i//2, i%2].set_xlabel('Torque (Nm)')\n",
    "    ax[i//2, i%2].set_ylabel('Speed (RPM)')\n",
    "    ax[i//2, i%2].set_title(f'{wheel} Motor Speed vs Torque')\n",
    "plt.tight_layout()\n",
    "plt.show()"
   ],
   "outputs": []
  },
  {
   "cell_type": "code",
   "execution_count": null,
   "id": "188b8a50235517f2",
   "metadata": {},
   "source": [
    "# For each wheel, plot the motor speed vs torque\n",
    "fig, ax = plt.subplots(2, 2, figsize=(15, 8))\n",
    "for i, wheel in enumerate(wheel_names):\n",
    "    ax[i//2, i%2].scatter(step_torque_cmd[cmd_names[i]], step_torque_cmd[speed_names[i]], s=2)\n",
    "    ax[i//2, i%2].set_xlabel('Torque (Nm)')\n",
    "    ax[i//2, i%2].set_ylabel('Speed (RPM)')\n",
    "    ax[i//2, i%2].set_title(f'{wheel} Motor Speed vs Torque')\n",
    "plt.tight_layout()\n",
    "plt.show()"
   ],
   "outputs": []
  }
 ],
 "metadata": {
  "kernelspec": {
   "display_name": "Python 3",
   "language": "python",
   "name": "python3"
  },
  "language_info": {
   "codemirror_mode": {
    "name": "ipython",
    "version": 3
   },
   "file_extension": ".py",
   "mimetype": "text/x-python",
   "name": "python",
   "nbconvert_exporter": "python",
   "pygments_lexer": "ipython3",
   "version": "3.12.2"
  }
 },
 "nbformat": 4,
 "nbformat_minor": 5
}
