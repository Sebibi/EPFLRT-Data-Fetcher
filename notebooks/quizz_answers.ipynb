{
 "cells": [
  {
   "cell_type": "code",
   "execution_count": 488,
   "id": "initial_id",
   "metadata": {
    "collapsed": true,
    "ExecuteTime": {
     "end_time": "2024-01-25T14:38:48.187946267Z",
     "start_time": "2024-01-25T14:38:48.147732362Z"
    }
   },
   "outputs": [],
   "source": [
    "import pandas as pd\n",
    "import numpy as np\n",
    "import networkx as nx\n",
    "import matplotlib.pyplot as plt"
   ]
  },
  {
   "cell_type": "code",
   "outputs": [],
   "source": [
    "from typing import TypedDict\n",
    "\n",
    "class Likelihood(TypedDict):\n",
    "    A: float\n",
    "    B: float\n",
    "    C: float\n",
    "    D: float\n",
    "    \n",
    "def create_likelihood(a: float, b: float, c: float, d: float) -> Likelihood:\n",
    "    return {'A': a, 'B': b, 'C': c, 'D': d}\n",
    "\n",
    "def random_likelihood() -> Likelihood:\n",
    "    rand_nums = np.random.random(4)\n",
    "    a, b, c, d = rand_nums / sum(rand_nums)\n",
    "    return create_likelihood(a, b, c, d)\n",
    "\n",
    "def normalize_likelihood(likelihood: Likelihood) -> Likelihood:\n",
    "    total = sum(likelihood.values())\n",
    "    return {k: v/total for k, v in likelihood.items()}\n",
    "\n",
    "\n",
    "def sum_to_one(likelihood: Likelihood) -> Likelihood:\n",
    "    total = sum(likelihood.values())\n",
    "    complement = 1 - total\n",
    "    if complement < 0:\n",
    "        raise ValueError(f\"Total is greater than 1: {total}\")\n",
    "    if complement > 0:\n",
    "        zero_value_count = sum([1 for v in likelihood.values() if v == 0])\n",
    "        fill_value = complement / zero_value_count\n",
    "        return {k: v if v != 0 else fill_value for k, v in likelihood.items()}\n",
    "    return likelihood"
   ],
   "metadata": {
    "collapsed": false,
    "ExecuteTime": {
     "end_time": "2024-01-25T14:38:48.190606088Z",
     "start_time": "2024-01-25T14:38:48.177481919Z"
    }
   },
   "id": "8e886a875037c6a",
   "execution_count": 489
  },
  {
   "cell_type": "code",
   "outputs": [],
   "source": [
    "node_types = ['A', 'B', 'C', 'D']\n",
    "node_count = [8, 4, 4, 3]\n",
    "node_count_dict = dict(zip(node_types, node_count))\n",
    "n_questions = sum(node_count)"
   ],
   "metadata": {
    "collapsed": false,
    "ExecuteTime": {
     "end_time": "2024-01-25T14:38:48.230842244Z",
     "start_time": "2024-01-25T14:38:48.195318306Z"
    }
   },
   "id": "c3a056c988f7d947",
   "execution_count": 490
  },
  {
   "cell_type": "code",
   "outputs": [],
   "source": [
    "init_answers_df = pd.read_csv('init_answers.csv', index_col=0).iloc[:n_questions]\n",
    "init_answers = init_answers_df.to_dict('records')\n",
    "init_answers = [sum_to_one(x) for x in init_answers]\n",
    "init_answers = [normalize_likelihood(x) for x in init_answers]"
   ],
   "metadata": {
    "collapsed": false,
    "ExecuteTime": {
     "end_time": "2024-01-25T14:38:48.231515976Z",
     "start_time": "2024-01-25T14:38:48.212889536Z"
    }
   },
   "id": "b805313ff708cccc",
   "execution_count": 491
  },
  {
   "cell_type": "code",
   "outputs": [],
   "source": [
    "node_answers_type = [f\"{t}{i+1}\" for t in node_types for i in range(node_count_dict[t])]\n",
    "assert len(node_answers_type) == n_questions, f\"Number of answers: {len(node_answers_type)}, expected: {n_questions}\"\n",
    "node_questions = [f\"Q{i+1}\" for i in range(n_questions)]"
   ],
   "metadata": {
    "collapsed": false,
    "ExecuteTime": {
     "end_time": "2024-01-25T14:38:48.233477822Z",
     "start_time": "2024-01-25T14:38:48.231180363Z"
    }
   },
   "id": "fc347381a55608d5",
   "execution_count": 492
  },
  {
   "cell_type": "code",
   "outputs": [
    {
     "name": "stdout",
     "output_type": "stream",
     "text": [
      "Graph with 38 nodes and 361 edges\n",
      "Number of answers: 19\n"
     ]
    }
   ],
   "source": [
    "G = nx.Graph()\n",
    "G.add_nodes_from(node_answers_type, bipartite=0)\n",
    "G.add_nodes_from(node_questions, bipartite=1)\n",
    "\n",
    "for i, init_answer in enumerate(init_answers):\n",
    "    question_node = node_questions[i]\n",
    "    for j, (node_type, node_count) in enumerate(node_count_dict.items()):\n",
    "        for k in range(node_count):\n",
    "            answer_node = f\"{node_type}{k+1}\"\n",
    "            G.add_edge(question_node, answer_node, weight=init_answer[node_type])\n",
    "\n",
    "print(G)\n",
    "print(f\"Number of answers: {len(node_answers_type)}\")\n",
    "\n",
    "# # Draw bipartite graph\n",
    "# pos = nx.bipartite_layout(G, node_answers_type)\n",
    "# nx.draw_networkx_nodes(G, pos, nodelist=node_answers_type, node_color='r')\n",
    "# nx.draw_networkx_nodes(G, pos, nodelist=node_questions, node_color='b')\n",
    "# nx.draw_networkx_edges(G, pos, width=1.0, alpha=0.5)\n",
    "# plt.show()"
   ],
   "metadata": {
    "collapsed": false,
    "ExecuteTime": {
     "end_time": "2024-01-25T14:38:48.253203634Z",
     "start_time": "2024-01-25T14:38:48.237433572Z"
    }
   },
   "id": "21ba114a494c61a6",
   "execution_count": 493
  },
  {
   "cell_type": "code",
   "outputs": [],
   "source": [
    "matching = nx.max_weight_matching(G, maxcardinality=True)\n",
    "matching = [(v, k) if v in node_questions else (k, v) for k, v in dict(matching).items()]\n",
    "matching = {k: v for k, v in dict(matching).items() if k in node_questions}\n",
    "matching_df = pd.Series(matching)\n",
    "\n",
    "assert len(matching_df) == n_questions, f\"Number of questions: {len(matching_df)}, expected: {n_questions}\""
   ],
   "metadata": {
    "collapsed": false,
    "ExecuteTime": {
     "end_time": "2024-01-25T14:38:48.253848376Z",
     "start_time": "2024-01-25T14:38:48.251135797Z"
    }
   },
   "id": "e5c053b1e23c0878",
   "execution_count": 494
  },
  {
   "cell_type": "code",
   "outputs": [],
   "source": [
    "# Process matching for nice display\n",
    "matching_df.index = matching_df.index.str.replace('Q', '')\n",
    "matching_df.index = matching_df.index.astype(int)\n",
    "matching_df = matching_df.sort_index()\n",
    "\n",
    "matching_df = matching_df.apply(lambda x: x[0])\n",
    "\n",
    "matching_df.index.name = 'Question'\n",
    "matching_df.name = 'Answer'"
   ],
   "metadata": {
    "collapsed": false,
    "ExecuteTime": {
     "end_time": "2024-01-25T14:38:48.290323562Z",
     "start_time": "2024-01-25T14:38:48.258047680Z"
    }
   },
   "id": "6befc2d8dcfd6427",
   "execution_count": 495
  },
  {
   "cell_type": "code",
   "outputs": [],
   "source": [
    "matching_df_int = matching_df.apply(lambda x: node_types.index(x))\n",
    "matching_df_int.name = 'Answer_int'\n",
    "df = pd.concat([matching_df, matching_df_int], axis=1)"
   ],
   "metadata": {
    "collapsed": false,
    "ExecuteTime": {
     "end_time": "2024-01-25T14:38:48.291232876Z",
     "start_time": "2024-01-25T14:38:48.266309943Z"
    }
   },
   "id": "cfdea14fe7e69012",
   "execution_count": 496
  },
  {
   "cell_type": "code",
   "outputs": [],
   "source": [
    "df['Likeliness'] = df.apply(lambda x: init_answers[x.name-1][x['Answer']], axis=1)"
   ],
   "metadata": {
    "collapsed": false,
    "ExecuteTime": {
     "end_time": "2024-01-25T14:38:48.303983313Z",
     "start_time": "2024-01-25T14:38:48.290580497Z"
    }
   },
   "id": "befc05a82f8030e5",
   "execution_count": 497
  },
  {
   "cell_type": "code",
   "outputs": [],
   "source": [
    "init_answers_df = pd.DataFrame(init_answers)\n",
    "init_answers_df.index = init_answers_df.index + 1"
   ],
   "metadata": {
    "collapsed": false,
    "ExecuteTime": {
     "end_time": "2024-01-25T14:38:48.338675397Z",
     "start_time": "2024-01-25T14:38:48.295805407Z"
    }
   },
   "id": "e4e68f14baf004c",
   "execution_count": 498
  },
  {
   "cell_type": "code",
   "outputs": [
    {
     "name": "stdout",
     "output_type": "stream",
     "text": [
      "count    19.00\n",
      "mean      0.25\n",
      "std       0.00\n",
      "min       0.25\n",
      "25%       0.25\n",
      "50%       0.25\n",
      "75%       0.25\n",
      "max       0.25\n",
      "Name: Likeliness, dtype: float64\n"
     ]
    },
    {
     "data": {
      "text/plain": "   Answer  Likeliness     A     B     C     D\n1       D        0.25  0.25  0.25  0.25  0.25\n2       D        0.25  0.25  0.25  0.25  0.25\n3       D        0.25  0.25  0.25  0.25  0.25\n4       C        0.25  0.25  0.25  0.25  0.25\n5       C        0.25  0.25  0.25  0.25  0.25\n6       C        0.25  0.25  0.25  0.25  0.25\n7       C        0.25  0.25  0.25  0.25  0.25\n8       B        0.25  0.25  0.25  0.25  0.25\n9       B        0.25  0.25  0.25  0.25  0.25\n10      B        0.25  0.25  0.25  0.25  0.25\n11      B        0.25  0.25  0.25  0.25  0.25\n12      A        0.25  0.25  0.25  0.25  0.25\n13      A        0.25  0.25  0.25  0.25  0.25\n14      A        0.25  0.25  0.25  0.25  0.25\n15      A        0.25  0.25  0.25  0.25  0.25\n16      A        0.25  0.25  0.25  0.25  0.25\n17      A        0.25  0.25  0.25  0.25  0.25\n18      A        0.25  0.25  0.25  0.25  0.25\n19      A        0.25  0.25  0.25  0.25  0.25",
      "text/html": "<div>\n<style scoped>\n    .dataframe tbody tr th:only-of-type {\n        vertical-align: middle;\n    }\n\n    .dataframe tbody tr th {\n        vertical-align: top;\n    }\n\n    .dataframe thead th {\n        text-align: right;\n    }\n</style>\n<table border=\"1\" class=\"dataframe\">\n  <thead>\n    <tr style=\"text-align: right;\">\n      <th></th>\n      <th>Answer</th>\n      <th>Likeliness</th>\n      <th>A</th>\n      <th>B</th>\n      <th>C</th>\n      <th>D</th>\n    </tr>\n  </thead>\n  <tbody>\n    <tr>\n      <th>1</th>\n      <td>D</td>\n      <td>0.25</td>\n      <td>0.25</td>\n      <td>0.25</td>\n      <td>0.25</td>\n      <td>0.25</td>\n    </tr>\n    <tr>\n      <th>2</th>\n      <td>D</td>\n      <td>0.25</td>\n      <td>0.25</td>\n      <td>0.25</td>\n      <td>0.25</td>\n      <td>0.25</td>\n    </tr>\n    <tr>\n      <th>3</th>\n      <td>D</td>\n      <td>0.25</td>\n      <td>0.25</td>\n      <td>0.25</td>\n      <td>0.25</td>\n      <td>0.25</td>\n    </tr>\n    <tr>\n      <th>4</th>\n      <td>C</td>\n      <td>0.25</td>\n      <td>0.25</td>\n      <td>0.25</td>\n      <td>0.25</td>\n      <td>0.25</td>\n    </tr>\n    <tr>\n      <th>5</th>\n      <td>C</td>\n      <td>0.25</td>\n      <td>0.25</td>\n      <td>0.25</td>\n      <td>0.25</td>\n      <td>0.25</td>\n    </tr>\n    <tr>\n      <th>6</th>\n      <td>C</td>\n      <td>0.25</td>\n      <td>0.25</td>\n      <td>0.25</td>\n      <td>0.25</td>\n      <td>0.25</td>\n    </tr>\n    <tr>\n      <th>7</th>\n      <td>C</td>\n      <td>0.25</td>\n      <td>0.25</td>\n      <td>0.25</td>\n      <td>0.25</td>\n      <td>0.25</td>\n    </tr>\n    <tr>\n      <th>8</th>\n      <td>B</td>\n      <td>0.25</td>\n      <td>0.25</td>\n      <td>0.25</td>\n      <td>0.25</td>\n      <td>0.25</td>\n    </tr>\n    <tr>\n      <th>9</th>\n      <td>B</td>\n      <td>0.25</td>\n      <td>0.25</td>\n      <td>0.25</td>\n      <td>0.25</td>\n      <td>0.25</td>\n    </tr>\n    <tr>\n      <th>10</th>\n      <td>B</td>\n      <td>0.25</td>\n      <td>0.25</td>\n      <td>0.25</td>\n      <td>0.25</td>\n      <td>0.25</td>\n    </tr>\n    <tr>\n      <th>11</th>\n      <td>B</td>\n      <td>0.25</td>\n      <td>0.25</td>\n      <td>0.25</td>\n      <td>0.25</td>\n      <td>0.25</td>\n    </tr>\n    <tr>\n      <th>12</th>\n      <td>A</td>\n      <td>0.25</td>\n      <td>0.25</td>\n      <td>0.25</td>\n      <td>0.25</td>\n      <td>0.25</td>\n    </tr>\n    <tr>\n      <th>13</th>\n      <td>A</td>\n      <td>0.25</td>\n      <td>0.25</td>\n      <td>0.25</td>\n      <td>0.25</td>\n      <td>0.25</td>\n    </tr>\n    <tr>\n      <th>14</th>\n      <td>A</td>\n      <td>0.25</td>\n      <td>0.25</td>\n      <td>0.25</td>\n      <td>0.25</td>\n      <td>0.25</td>\n    </tr>\n    <tr>\n      <th>15</th>\n      <td>A</td>\n      <td>0.25</td>\n      <td>0.25</td>\n      <td>0.25</td>\n      <td>0.25</td>\n      <td>0.25</td>\n    </tr>\n    <tr>\n      <th>16</th>\n      <td>A</td>\n      <td>0.25</td>\n      <td>0.25</td>\n      <td>0.25</td>\n      <td>0.25</td>\n      <td>0.25</td>\n    </tr>\n    <tr>\n      <th>17</th>\n      <td>A</td>\n      <td>0.25</td>\n      <td>0.25</td>\n      <td>0.25</td>\n      <td>0.25</td>\n      <td>0.25</td>\n    </tr>\n    <tr>\n      <th>18</th>\n      <td>A</td>\n      <td>0.25</td>\n      <td>0.25</td>\n      <td>0.25</td>\n      <td>0.25</td>\n      <td>0.25</td>\n    </tr>\n    <tr>\n      <th>19</th>\n      <td>A</td>\n      <td>0.25</td>\n      <td>0.25</td>\n      <td>0.25</td>\n      <td>0.25</td>\n      <td>0.25</td>\n    </tr>\n  </tbody>\n</table>\n</div>"
     },
     "execution_count": 499,
     "metadata": {},
     "output_type": "execute_result"
    }
   ],
   "source": [
    "df = pd.concat([df, init_answers_df], axis=1)\n",
    "df.drop('Answer_int', axis=1, inplace=True)\n",
    "df = df.round(2)\n",
    "df.to_csv('quizz_answers.csv')\n",
    "print(df['Likeliness'].describe())\n",
    "df"
   ],
   "metadata": {
    "collapsed": false,
    "ExecuteTime": {
     "end_time": "2024-01-25T14:38:48.339901880Z",
     "start_time": "2024-01-25T14:38:48.336768480Z"
    }
   },
   "id": "228e378af80f9d52",
   "execution_count": 499
  }
 ],
 "metadata": {
  "kernelspec": {
   "display_name": "Python 3",
   "language": "python",
   "name": "python3"
  },
  "language_info": {
   "codemirror_mode": {
    "name": "ipython",
    "version": 2
   },
   "file_extension": ".py",
   "mimetype": "text/x-python",
   "name": "python",
   "nbconvert_exporter": "python",
   "pygments_lexer": "ipython2",
   "version": "2.7.6"
  }
 },
 "nbformat": 4,
 "nbformat_minor": 5
}
